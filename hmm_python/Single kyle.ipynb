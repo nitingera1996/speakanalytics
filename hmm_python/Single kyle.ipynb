{
 "cells": [
  {
   "cell_type": "raw",
   "metadata": {},
   "source": [
    "Try 1"
   ]
  },
  {
   "cell_type": "code",
   "execution_count": 1,
   "metadata": {
    "collapsed": true
   },
   "outputs": [],
   "source": [
    "import numpy as np\n",
    "import matplotlib.pyplot as plt\n",
    "%matplotlib inline"
   ]
  },
  {
   "cell_type": "code",
   "execution_count": 2,
   "metadata": {
    "collapsed": false
   },
   "outputs": [],
   "source": [
    "# from utils import progress_bar_downloader\n",
    "# import os\n",
    "\n",
    "# link = 'https://dl.dropboxusercontent.com/u/15378192/audio.tar.gz'\n",
    "# dlname = 'audio.tar.gz'\n",
    "\n",
    "# if not os.path.exists('./%s' % dlname):\n",
    "#     progress_bar_downloader(link, dlname)\n",
    "#     os.system('tar xzf %s' % dlname)\n",
    "# else:\n",
    "#     print('%s already downloaded!' % dlname)"
   ]
  },
  {
   "cell_type": "code",
   "execution_count": 3,
   "metadata": {
    "collapsed": false
   },
   "outputs": [
    {
     "data": {
      "text/plain": [
       "0"
      ]
     },
     "execution_count": 3,
     "metadata": {},
     "output_type": "execute_result"
    }
   ],
   "source": [
    "import os\n",
    "dlname = 'audio.tar.gz'\n",
    "os.system('tar xzf %s' % dlname)"
   ]
  },
  {
   "cell_type": "code",
   "execution_count": 4,
   "metadata": {
    "collapsed": false
   },
   "outputs": [
    {
     "data": {
      "text/plain": [
       "['banana', 'pineapple', 'orange', 'lime', 'apple', 'peach', 'kiwi']"
      ]
     },
     "execution_count": 4,
     "metadata": {},
     "output_type": "execute_result"
    }
   ],
   "source": [
    "os.listdir(\"audio\")"
   ]
  },
  {
   "cell_type": "code",
   "execution_count": 5,
   "metadata": {
    "collapsed": false
   },
   "outputs": [
    {
     "name": "stdout",
     "output_type": "stream",
     "text": [
      "('Words spoken:', ['banana', 'pineapple', 'orange', 'lime', 'apple', 'peach', 'kiwi'])\n"
     ]
    }
   ],
   "source": [
    "fpaths = []\n",
    "labels = []\n",
    "spoken = []\n",
    "for f in os.listdir('audio'):\n",
    "    for w in os.listdir('audio/' + f):\n",
    "        fpaths.append('audio/' + f + '/' + w)\n",
    "        labels.append(f)\n",
    "        if f not in spoken:\n",
    "            spoken.append(f)\n",
    "print('Words spoken:', spoken)"
   ]
  },
  {
   "cell_type": "code",
   "execution_count": 6,
   "metadata": {
    "collapsed": false
   },
   "outputs": [
    {
     "data": {
      "text/plain": [
       "3901"
      ]
     },
     "execution_count": 6,
     "metadata": {},
     "output_type": "execute_result"
    }
   ],
   "source": [
    "from scipy.io import wavfile\n",
    "_,a=wavfile.read(fpaths[1])\n",
    "a.shape[0]"
   ]
  },
  {
   "cell_type": "code",
   "execution_count": 7,
   "metadata": {
    "collapsed": false
   },
   "outputs": [
    {
     "name": "stdout",
     "output_type": "stream",
     "text": [
      "('Number of files total:', 105)\n",
      "('Labels and label indices', array([ 5.,  5.,  5.,  5.,  5.,  5.,  5.,  5.,  5.,  5.,  5.,  5.,  5.,\n",
      "        5.,  5.,  3.,  3.,  3.,  3.,  3.,  3.,  3.,  3.,  3.,  3.,  3.,\n",
      "        3.,  3.,  3.,  3.,  4.,  4.,  4.,  4.,  4.,  4.,  4.,  4.,  4.,\n",
      "        4.,  4.,  4.,  4.,  4.,  4.,  6.,  6.,  6.,  6.,  6.,  6.,  6.,\n",
      "        6.,  6.,  6.,  6.,  6.,  6.,  6.,  6.,  1.,  1.,  1.,  1.,  1.,\n",
      "        1.,  1.,  1.,  1.,  1.,  1.,  1.,  1.,  1.,  1.,  2.,  2.,  2.,\n",
      "        2.,  2.,  2.,  2.,  2.,  2.,  2.,  2.,  2.,  2.,  2.,  2.,  0.,\n",
      "        0.,  0.,  0.,  0.,  0.,  0.,  0.,  0.,  0.,  0.,  0.,  0.,  0.,  0.]))\n"
     ]
    }
   ],
   "source": [
    "#Files can be heard in Linux using the following commands from the command line\n",
    "#cat kiwi07.wav | aplay -f S16_LE -t wav -r 8000\n",
    "#Files are signed 16 bit raw, sample rate 8000\n",
    "from scipy.io import wavfile\n",
    "\n",
    "data = np.zeros((len(fpaths), 32000))\n",
    "maxsize = -1\n",
    "for n,file in enumerate(fpaths):\n",
    "    _, d = wavfile.read(file)\n",
    "    data[n, :d.shape[0]] = d\n",
    "    if d.shape[0] > maxsize:\n",
    "        maxsize = d.shape[0]\n",
    "data = data[:, :maxsize]\n",
    "\n",
    "#Each sample file is one row in data, and has one entry in labels\n",
    "print('Number of files total:', data.shape[0])\n",
    "all_labels = np.zeros(data.shape[0])\n",
    "for n, l in enumerate(set(labels)):\n",
    "    all_labels[np.array([i for i, _ in enumerate(labels) if _ == l])] = n\n",
    "    \n",
    "print('Labels and label indices', all_labels)"
   ]
  },
  {
   "cell_type": "code",
   "execution_count": 8,
   "metadata": {
    "collapsed": false
   },
   "outputs": [
    {
     "data": {
      "text/plain": [
       "{'apple', 'banana', 'kiwi', 'lime', 'orange', 'peach', 'pineapple'}"
      ]
     },
     "execution_count": 8,
     "metadata": {},
     "output_type": "execute_result"
    }
   ],
   "source": [
    "set(labels)"
   ]
  },
  {
   "cell_type": "code",
   "execution_count": 9,
   "metadata": {
    "collapsed": false
   },
   "outputs": [
    {
     "data": {
      "text/plain": [
       "['banana',\n",
       " 'banana',\n",
       " 'banana',\n",
       " 'banana',\n",
       " 'banana',\n",
       " 'banana',\n",
       " 'banana',\n",
       " 'banana',\n",
       " 'banana',\n",
       " 'banana',\n",
       " 'banana',\n",
       " 'banana',\n",
       " 'banana',\n",
       " 'banana',\n",
       " 'banana',\n",
       " 'pineapple',\n",
       " 'pineapple',\n",
       " 'pineapple',\n",
       " 'pineapple',\n",
       " 'pineapple',\n",
       " 'pineapple',\n",
       " 'pineapple',\n",
       " 'pineapple',\n",
       " 'pineapple',\n",
       " 'pineapple',\n",
       " 'pineapple',\n",
       " 'pineapple',\n",
       " 'pineapple',\n",
       " 'pineapple',\n",
       " 'pineapple',\n",
       " 'orange',\n",
       " 'orange',\n",
       " 'orange',\n",
       " 'orange',\n",
       " 'orange',\n",
       " 'orange',\n",
       " 'orange',\n",
       " 'orange',\n",
       " 'orange',\n",
       " 'orange',\n",
       " 'orange',\n",
       " 'orange',\n",
       " 'orange',\n",
       " 'orange',\n",
       " 'orange',\n",
       " 'lime',\n",
       " 'lime',\n",
       " 'lime',\n",
       " 'lime',\n",
       " 'lime',\n",
       " 'lime',\n",
       " 'lime',\n",
       " 'lime',\n",
       " 'lime',\n",
       " 'lime',\n",
       " 'lime',\n",
       " 'lime',\n",
       " 'lime',\n",
       " 'lime',\n",
       " 'lime',\n",
       " 'apple',\n",
       " 'apple',\n",
       " 'apple',\n",
       " 'apple',\n",
       " 'apple',\n",
       " 'apple',\n",
       " 'apple',\n",
       " 'apple',\n",
       " 'apple',\n",
       " 'apple',\n",
       " 'apple',\n",
       " 'apple',\n",
       " 'apple',\n",
       " 'apple',\n",
       " 'apple',\n",
       " 'peach',\n",
       " 'peach',\n",
       " 'peach',\n",
       " 'peach',\n",
       " 'peach',\n",
       " 'peach',\n",
       " 'peach',\n",
       " 'peach',\n",
       " 'peach',\n",
       " 'peach',\n",
       " 'peach',\n",
       " 'peach',\n",
       " 'peach',\n",
       " 'peach',\n",
       " 'peach',\n",
       " 'kiwi',\n",
       " 'kiwi',\n",
       " 'kiwi',\n",
       " 'kiwi',\n",
       " 'kiwi',\n",
       " 'kiwi',\n",
       " 'kiwi',\n",
       " 'kiwi',\n",
       " 'kiwi',\n",
       " 'kiwi',\n",
       " 'kiwi',\n",
       " 'kiwi',\n",
       " 'kiwi',\n",
       " 'kiwi',\n",
       " 'kiwi']"
      ]
     },
     "execution_count": 9,
     "metadata": {},
     "output_type": "execute_result"
    }
   ],
   "source": [
    "labels"
   ]
  },
  {
   "cell_type": "code",
   "execution_count": 10,
   "metadata": {
    "collapsed": true
   },
   "outputs": [],
   "source": [
    "import scipy\n",
    "\n",
    "def stft(x, fftsize=64, overlap_pct=.5):   \n",
    "    #Modified from http://stackoverflow.com/questions/2459295/stft-and-istft-in-python\n",
    "    hop = int(fftsize * (1 - overlap_pct))\n",
    "    w = scipy.hanning(fftsize + 1)[:-1]    \n",
    "    raw = np.array([np.fft.rfft(w * x[i:i + fftsize]) for i in range(0, len(x) - fftsize, hop)])\n",
    "    return raw[:, :(fftsize // 2)]\n"
   ]
  },
  {
   "cell_type": "code",
   "execution_count": null,
   "metadata": {
    "collapsed": false
   },
   "outputs": [],
   "source": []
  },
  {
   "cell_type": "code",
   "execution_count": null,
   "metadata": {
    "collapsed": true
   },
   "outputs": [],
   "source": []
  },
  {
   "cell_type": "code",
   "execution_count": 11,
   "metadata": {
    "collapsed": false
   },
   "outputs": [
    {
     "name": "stdout",
     "output_type": "stream",
     "text": [
      "(216, 32)\n"
     ]
    },
    {
     "data": {
      "text/plain": [
       "<matplotlib.text.Text at 0x7f0754e88690>"
      ]
     },
     "execution_count": 11,
     "metadata": {},
     "output_type": "execute_result"
    },
    {
     "data": {
      "image/png": "[encoded data removed]",
      "text/plain": [
       "<matplotlib.figure.Figure at 0x7f075692cf50>"
      ]
     },
     "metadata": {},
     "output_type": "display_data"
    },
    {
     "data": {
      "image/png": "[encoded data removed]",
      "text/plain": [
       "<matplotlib.figure.Figure at 0x7f0754f25a50>"
      ]
     },
     "metadata": {},
     "output_type": "display_data"
    }
   ],
   "source": [
    "import matplotlib.pyplot as plt\n",
    "plt.plot(data[0, :], color='steelblue')\n",
    "plt.title('Timeseries example for %s'%labels[0])\n",
    "plt.xlim(0, 4000)\n",
    "plt.xlabel('Time (samples)')\n",
    "plt.ylabel('Amplitude (signed 16 bit)')\n",
    "plt.figure()\n",
    "\n",
    "# + 1 to avoid log of 0\n",
    "log_freq = 20 * np.log(np.abs(stft(data[0, :])) + 1)\n",
    "print(log_freq.shape)\n",
    "plt.imshow(log_freq, cmap='gray', interpolation=None)\n",
    "plt.xlabel('Freq (bin)')\n",
    "plt.ylabel('Time (overlapped frames)')\n",
    "plt.ylim(log_freq.shape[1])\n",
    "plt.title('PSD of %s example'%labels[0])"
   ]
  },
  {
   "cell_type": "code",
   "execution_count": 12,
   "metadata": {
    "collapsed": true
   },
   "outputs": [],
   "source": [
    "from numpy.lib.stride_tricks import as_strided\n",
    "\n",
    "#Peak detection using the technique described here: http://kkjkok.blogspot.com/2013/12/dsp-snippets_9.html \n",
    "def peakfind(x, n_peaks, l_size=3, r_size=3, c_size=3, f=np.mean):\n",
    "    win_size = l_size + r_size + c_size\n",
    "    shape = x.shape[:-1] + (x.shape[-1] - win_size + 1, win_size)\n",
    "    strides = x.strides + (x.strides[-1],)\n",
    "    xs = as_strided(x, shape=shape, strides=strides)\n",
    "    def is_peak(x):\n",
    "        centered = (np.argmax(x) == l_size + int(c_size/2))\n",
    "        l = x[:l_size]\n",
    "        c = x[l_size:l_size + c_size]\n",
    "        r = x[-r_size:]\n",
    "        passes = np.max(c) > np.max([f(l), f(r)])\n",
    "        if centered and passes:\n",
    "            return np.max(c)\n",
    "        else:\n",
    "            return -1\n",
    "    r = np.apply_along_axis(is_peak, 1, xs)\n",
    "    top = np.argsort(r, None)[::-1]\n",
    "    heights = r[top[:n_peaks]]\n",
    "    #Add l_size and half - 1 of center size to get to actual peak location\n",
    "    top[top > -1] = top[top > -1] + l_size + int(c_size / 2.)\n",
    "    return heights, top[:n_peaks]"
   ]
  },
  {
   "cell_type": "code",
   "execution_count": 13,
   "metadata": {
    "collapsed": false
   },
   "outputs": [
    {
     "data": {
      "text/plain": [
       "<matplotlib.text.Text at 0x7f0754f0b0d0>"
      ]
     },
     "execution_count": 13,
     "metadata": {},
     "output_type": "execute_result"
    },
    {
     "data": {
      "image/png": "[encoded data removed]",
      "text/plain": [
       "<matplotlib.figure.Figure at 0x7f076a6614d0>"
      ]
     },
     "metadata": {},
     "output_type": "display_data"
    }
   ],
   "source": [
    "plot_data = np.abs(stft(data[20, :]))[15, :]\n",
    "values, locs = peakfind(plot_data, n_peaks=6)\n",
    "fp = locs[values > -1]\n",
    "fv = values[values > -1]\n",
    "plt.plot(plot_data, color='steelblue')\n",
    "plt.plot(fp, fv, 'x', color='darkred')\n",
    "plt.title('Peak location example')\n",
    "plt.xlabel('Frequency (bins)')\n",
    "plt.ylabel('Amplitude')"
   ]
  },
  {
   "cell_type": "code",
   "execution_count": 14,
   "metadata": {
    "collapsed": false
   },
   "outputs": [
    {
     "name": "stdout",
     "output_type": "stream",
     "text": [
      "Processed obs 0\n",
      "Processed obs 10\n",
      "Processed obs 20\n",
      "Processed obs 30\n",
      "Processed obs 40\n",
      "Processed obs 50\n",
      "Processed obs 60\n",
      "Processed obs 70\n",
      "Processed obs 80\n",
      "Processed obs 90\n",
      "Processed obs 100\n"
     ]
    }
   ],
   "source": [
    "#This processing (top freq peaks) only works for single speaker case... need better features for multispeaker!\n",
    "#MFCC (or deep NN/automatic feature extraction) could be interesting\n",
    "all_obs = []\n",
    "for i in range(data.shape[0]):\n",
    "    d = np.abs(stft(data[i, :]))\n",
    "    n_dim = 6\n",
    "    obs = np.zeros((n_dim, d.shape[0]))\n",
    "    for r in range(d.shape[0]):\n",
    "        _, t = peakfind(d[r, :], n_peaks=n_dim)\n",
    "        obs[:, r] = t.copy()\n",
    "    if i % 10 == 0:\n",
    "        print(\"Processed obs %s\" % i)\n",
    "    all_obs.append(obs)\n",
    "    \n",
    "all_obs = np.atleast_3d(all_obs)"
   ]
  },
  {
   "cell_type": "code",
   "execution_count": 15,
   "metadata": {
    "collapsed": false
   },
   "outputs": [
    {
     "name": "stdout",
     "output_type": "stream",
     "text": [
      "Likelihoods for test set 1\n",
      "('M1:', 221.38828575112734)\n",
      "('M2:', 165.27280230776492)\n",
      "Prediction for test set 1\n",
      "('Model', 1)\n",
      "()\n",
      "Likelihoods for test set 2\n",
      "('M1:', 33.194594214851961)\n",
      "('M2:', 59.152747530529922)\n",
      "Prediction for test set 2\n",
      "('Model', 2)\n"
     ]
    }
   ],
   "source": [
    "import scipy.stats as st\n",
    "from scipy.stats import multivariate_normal\n",
    "import numpy as np\n",
    "\n",
    "class gmmhmm:\n",
    "    #This class converted with modifications from https://code.google.com/p/hmm-speech-recognition/source/browse/Word.m\n",
    "    def __init__(self, n_states):\n",
    "        self.n_states = n_states\n",
    "        self.random_state = np.random.RandomState(0)\n",
    "        \n",
    "        #Normalize random initial state\n",
    "        self.prior = self._normalize(self.random_state.rand(self.n_states, 1))\n",
    "        self.A = self._stochasticize(self.random_state.rand(self.n_states, self.n_states))\n",
    "        \n",
    "        self.mu = None\n",
    "        self.covs = None\n",
    "        self.n_dims = None\n",
    "           \n",
    "    def _forward(self, B):\n",
    "        log_likelihood = 0.\n",
    "        T = B.shape[1]\n",
    "        alpha = np.zeros(B.shape)\n",
    "        for t in range(T):\n",
    "            if t == 0:\n",
    "                alpha[:, t] = B[:, t] * self.prior.ravel()\n",
    "            else:\n",
    "                alpha[:, t] = B[:, t] * np.dot(self.A.T, alpha[:, t - 1])\n",
    "         \n",
    "            alpha_sum = np.sum(alpha[:, t])\n",
    "            alpha[:, t] /= alpha_sum\n",
    "            log_likelihood = log_likelihood + np.log(alpha_sum)\n",
    "        return log_likelihood, alpha\n",
    "    \n",
    "    def _backward(self, B):\n",
    "        T = B.shape[1]\n",
    "        beta = np.zeros(B.shape);\n",
    "           \n",
    "        beta[:, -1] = np.ones(B.shape[0])\n",
    "            \n",
    "        for t in range(T - 1)[::-1]:\n",
    "            beta[:, t] = np.dot(self.A, (B[:, t + 1] * beta[:, t + 1]))\n",
    "            beta[:, t] /= np.sum(beta[:, t])\n",
    "        return beta\n",
    "    \n",
    "    def _state_likelihood(self, obs):\n",
    "        obs = np.atleast_2d(obs)\n",
    "        B = np.zeros((self.n_states, obs.shape[1]))\n",
    "        for s in range(self.n_states):\n",
    "            #Needs scipy 0.14\n",
    "            np.random.seed(self.random_state.randint(1))\n",
    "            B[s, :] = st.multivariate_normal.pdf(\n",
    "                obs.T, mean=self.mu[:, s].T, cov=self.covs[:, :, s].T)\n",
    "            #This function can (and will!) return values >> 1\n",
    "            #See the discussion here for the equivalent matlab function\n",
    "            #https://groups.google.com/forum/#!topic/comp.soft-sys.matlab/YksWK0T74Ak\n",
    "            #Key line: \"Probabilities have to be less than 1,\n",
    "            #Densities can be anything, even infinite (at individual points).\"\n",
    "            #This is evaluating the density at individual points...\n",
    "        return B\n",
    "    \n",
    "    def _normalize(self, x):\n",
    "        return (x + (x == 0)) / np.sum(x)\n",
    "    \n",
    "    def _stochasticize(self, x):\n",
    "        return (x + (x == 0)) / np.sum(x, axis=1)\n",
    "    \n",
    "    def _em_init(self, obs):\n",
    "        #Using this _em_init function allows for less required constructor args\n",
    "        if self.n_dims is None:\n",
    "            self.n_dims = obs.shape[0]\n",
    "        if self.mu is None:\n",
    "            subset = self.random_state.choice(np.arange(self.n_dims), size=self.n_states, replace=False)\n",
    "            self.mu = obs[:, subset]\n",
    "        if self.covs is None:\n",
    "            self.covs = np.zeros((self.n_dims, self.n_dims, self.n_states))\n",
    "            self.covs += np.diag(np.diag(np.cov(obs)))[:, :, None]\n",
    "        return self\n",
    "    \n",
    "    def _em_step(self, obs): \n",
    "        obs = np.atleast_2d(obs)\n",
    "        B = self._state_likelihood(obs)\n",
    "        T = obs.shape[1]\n",
    "        \n",
    "        log_likelihood, alpha = self._forward(B)\n",
    "        beta = self._backward(B)\n",
    "        \n",
    "        xi_sum = np.zeros((self.n_states, self.n_states))\n",
    "        gamma = np.zeros((self.n_states, T))\n",
    "        \n",
    "        for t in range(T - 1):\n",
    "            partial_sum = self.A * np.dot(alpha[:, t], (beta[:, t] * B[:, t + 1]).T)\n",
    "            xi_sum += self._normalize(partial_sum)\n",
    "            partial_g = alpha[:, t] * beta[:, t]\n",
    "            gamma[:, t] = self._normalize(partial_g)\n",
    "              \n",
    "        partial_g = alpha[:, -1] * beta[:, -1]\n",
    "        gamma[:, -1] = self._normalize(partial_g)\n",
    "        \n",
    "        expected_prior = gamma[:, 0]\n",
    "        expected_A = self._stochasticize(xi_sum)\n",
    "        \n",
    "        expected_mu = np.zeros((self.n_dims, self.n_states))\n",
    "        expected_covs = np.zeros((self.n_dims, self.n_dims, self.n_states))\n",
    "        \n",
    "        gamma_state_sum = np.sum(gamma, axis=1)\n",
    "        #Set zeros to 1 before dividing\n",
    "        gamma_state_sum = gamma_state_sum + (gamma_state_sum == 0)\n",
    "        \n",
    "        for s in range(self.n_states):\n",
    "            gamma_obs = obs * gamma[s, :]\n",
    "            expected_mu[:, s] = np.sum(gamma_obs, axis=1) / gamma_state_sum[s]\n",
    "            partial_covs = np.dot(gamma_obs, obs.T) / gamma_state_sum[s] - np.dot(expected_mu[:, s], expected_mu[:, s].T)\n",
    "            #Symmetrize\n",
    "            partial_covs = np.triu(partial_covs) + np.triu(partial_covs).T - np.diag(partial_covs)\n",
    "        \n",
    "        #Ensure positive semidefinite by adding diagonal loading\n",
    "        expected_covs += .01 * np.eye(self.n_dims)[:, :, None]\n",
    "        \n",
    "        self.prior = expected_prior\n",
    "        self.mu = expected_mu\n",
    "        self.covs = expected_covs\n",
    "        self.A = expected_A\n",
    "        return log_likelihood\n",
    "    \n",
    "    def fit(self, obs, n_iter=15):\n",
    "        #Support for 2D and 3D arrays\n",
    "        #2D should be n_features, n_dims\n",
    "        #3D should be n_examples, n_features, n_dims\n",
    "        #For example, with 6 features per speech segment, 105 different words\n",
    "        #this array should be size\n",
    "        #(105, 6, X) where X is the number of frames with features extracted\n",
    "        #For a single example file, the array should be size (6, X)\n",
    "        if len(obs.shape) == 2:\n",
    "            for i in range(n_iter):\n",
    "                self._em_init(obs)\n",
    "                log_likelihood = self._em_step(obs)\n",
    "        elif len(obs.shape) == 3:\n",
    "            count = obs.shape[0]\n",
    "            for n in range(count):\n",
    "                for i in range(n_iter):\n",
    "                    self._em_init(obs[n, :, :])\n",
    "                    log_likelihood = self._em_step(obs[n, :, :])\n",
    "        return self\n",
    "    \n",
    "    def transform(self, obs):\n",
    "        #Support for 2D and 3D arrays\n",
    "        #2D should be n_features, n_dims\n",
    "        #3D should be n_examples, n_features, n_dims\n",
    "        #For example, with 6 features per speech segment, 105 different words\n",
    "        #this array should be size\n",
    "        #(105, 6, X) where X is the number of frames with features extracted\n",
    "        #For a single example file, the array should be size (6, X)\n",
    "        if len(obs.shape) == 2:\n",
    "            B = self._state_likelihood(obs)\n",
    "            log_likelihood, _ = self._forward(B)\n",
    "            return log_likelihood\n",
    "        elif len(obs.shape) == 3:\n",
    "            count = obs.shape[0]\n",
    "            out = np.zeros((count,))\n",
    "            for n in range(count):\n",
    "                B = self._state_likelihood(obs[n, :, :])\n",
    "                log_likelihood, _ = self._forward(B)\n",
    "                out[n] = log_likelihood\n",
    "            return out\n",
    "\n",
    "if __name__ == \"__main__\":\n",
    "    rstate = np.random.RandomState(0)\n",
    "    t1 = np.ones((4, 40)) + .001 * rstate.rand(4, 40)\n",
    "    t1 /= t1.sum(axis=0)\n",
    "    t2 = rstate.rand(*t1.shape)\n",
    "    t2 /= t2.sum(axis=0)\n",
    "    \n",
    "    m1 = gmmhmm(2)\n",
    "    m1.fit(t1)\n",
    "    m2 = gmmhmm(2)\n",
    "    m2.fit(t2)\n",
    "    \n",
    "    m1t1 = m1.transform(t1)\n",
    "    m2t1 = m2.transform(t1)\n",
    "    print(\"Likelihoods for test set 1\")\n",
    "    print(\"M1:\", m1t1)\n",
    "    print(\"M2:\", m2t1)\n",
    "    print(\"Prediction for test set 1\")\n",
    "    print(\"Model\", np.argmax([m1t1, m2t1]) + 1)\n",
    "    print()\n",
    "    \n",
    "    m1t2 = m1.transform(t2)\n",
    "    m2t2 = m2.transform(t2)\n",
    "    print(\"Likelihoods for test set 2\")\n",
    "    print(\"M1:\", m1t2)\n",
    "    print(\"M2:\", m2t2)\n",
    "    print(\"Prediction for test set 2\")\n",
    "    print(\"Model\", np.argmax([m1t2, m2t2]) + 1)"
   ]
  },
  {
   "cell_type": "code",
   "execution_count": 20,
   "metadata": {
    "collapsed": false
   },
   "outputs": [
    {
     "name": "stdout",
     "output_type": "stream",
     "text": [
      "('Size of training matrix:', (84, 6, 216))\n",
      "('Size of testing matrix:', (21, 6, 216))\n"
     ]
    }
   ],
   "source": [
    "from sklearn.cross_validation import StratifiedShuffleSplit\n",
    "sss = StratifiedShuffleSplit(all_labels, test_size=0.2, random_state=0)\n",
    "\n",
    "for n,i in enumerate(all_obs):\n",
    "    all_obs[n] /= all_obs[n].sum(axis=0)\n",
    "\n",
    "for train_index, test_index in sss:\n",
    "    X_train, X_test = all_obs[train_index, ...], all_obs[test_index, ...]\n",
    "    y_train, y_test = all_labels[train_index], all_labels[test_index]\n",
    "print('Size of training matrix:', X_train.shape)\n",
    "print('Size of testing matrix:', X_test.shape)"
   ]
  },
  {
   "cell_type": "code",
   "execution_count": 21,
   "metadata": {
    "collapsed": false
   },
   "outputs": [
    {
     "name": "stdout",
     "output_type": "stream",
     "text": [
      "Test accuracy: 71.43 percent\n"
     ]
    }
   ],
   "source": [
    "ys = set(all_labels)\n",
    "ms = [gmmhmm(6) for y in ys]\n",
    "_ = [m.fit(X_train[y_train == y, :, :]) for m, y in zip(ms, ys)]\n",
    "ps = [m.transform(X_test) for m in ms]\n",
    "res = np.vstack(ps)\n",
    "predicted_labels = np.argmax(res, axis=0)\n",
    "missed = (predicted_labels != y_test)\n",
    "print('Test accuracy: %.2f percent' % (100 * (1 - np.mean(missed))))"
   ]
  },
  {
   "cell_type": "code",
   "execution_count": 18,
   "metadata": {
    "collapsed": false
   },
   "outputs": [
    {
     "data": {
      "text/plain": [
       "<matplotlib.text.Text at 0x7f0750c18610>"
      ]
     },
     "execution_count": 18,
     "metadata": {},
     "output_type": "execute_result"
    },
    {
     "data": {
      "image/png": "[encoded data removed]",
      "text/plain": [
       "<matplotlib.figure.Figure at 0x7f0754d1dc90>"
      ]
     },
     "metadata": {},
     "output_type": "display_data"
    }
   ],
   "source": [
    "from sklearn.metrics import confusion_matrix\n",
    "cm = confusion_matrix(y_test, predicted_labels)\n",
    "plt.matshow(cm, cmap='gray')\n",
    "ax = plt.gca()\n",
    "_ = ax.set_xticklabels([\" \"] + [l[:2] for l in spoken])\n",
    "_ = ax.set_yticklabels([\" \"] + spoken)\n",
    "plt.title('Confusion matrix, single speaker')\n",
    "plt.ylabel('True label')\n",
    "plt.xlabel('Predicted label')"
   ]
  },
  {
   "cell_type": "code",
   "execution_count": 19,
   "metadata": {
    "collapsed": false
   },
   "outputs": [
    {
     "name": "stdout",
     "output_type": "stream",
     "text": [
      "Test accuracy: 82.86 percent\n",
      "Test accuracy: 77.14 percent\n",
      "Test accuracy: 65.71 percent\n"
     ]
    }
   ],
   "source": [
    "from sklearn.cross_validation import StratifiedKFold\n",
    "skf = StratifiedKFold(labels, n_folds=3)\n",
    "for train_index, test_index in skf:\n",
    "    #print(\"TRAIN:\", train_index, \"TEST:\", test_index)\n",
    "    X_train, X_test = all_obs[train_index], all_obs[test_index]\n",
    "    y_train, y_test = all_labels[train_index], all_labels[test_index]\n",
    "    ys = set(all_labels)\n",
    "    ms = [gmmhmm(6) for y in ys]\n",
    "    _ = [m.fit(X_train[y_train == y, :, :]) for m, y in zip(ms, ys)]\n",
    "    ps = [m.transform(X_test) for m in ms]\n",
    "    res = np.vstack(ps)\n",
    "    predicted_labels = np.argmax(res, axis=0)\n",
    "    missed = (predicted_labels != y_test)\n",
    "    print('Test accuracy: %.2f percent' % (100 * (1 - np.mean(missed))))"
   ]
  },
  {
   "cell_type": "code",
   "execution_count": 23,
   "metadata": {
    "collapsed": false
   },
   "outputs": [
    {
     "data": {
      "text/plain": [
       "75.23666666666666"
      ]
     },
     "execution_count": 23,
     "metadata": {},
     "output_type": "execute_result"
    }
   ],
   "source": [
    "    Average=(82.86+77.14+65.71)/3\n",
    "    Average"
   ]
  },
  {
   "cell_type": "code",
   "execution_count": null,
   "metadata": {
    "collapsed": true
   },
   "outputs": [],
   "source": []
  }
 ],
 "metadata": {
  "kernelspec": {
   "display_name": "Python 2",
   "language": "python",
   "name": "python2"
  },
  "language_info": {
   "codemirror_mode": {
    "name": "ipython",
    "version": 2
   },
   "file_extension": ".py",
   "mimetype": "text/x-python",
   "name": "python",
   "nbconvert_exporter": "python",
   "pygments_lexer": "ipython2",
   "version": "2.7.6"
  }
 },
 "nbformat": 4,
 "nbformat_minor": 0
}
